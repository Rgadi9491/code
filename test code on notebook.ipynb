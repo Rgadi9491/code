{
 "cells": [
  {
   "cell_type": "code",
   "execution_count": 3,
   "id": "b1b4ad0a",
   "metadata": {},
   "outputs": [
    {
     "data": {
      "text/plain": [
       "35"
      ]
     },
     "execution_count": 3,
     "metadata": {},
     "output_type": "execute_result"
    }
   ],
   "source": [
    "1+1+33"
   ]
  },
  {
   "cell_type": "code",
   "execution_count": 4,
   "id": "6ecb05cd",
   "metadata": {},
   "outputs": [
    {
     "data": {
      "text/plain": [
       "77169667"
      ]
     },
     "execution_count": 4,
     "metadata": {},
     "output_type": "execute_result"
    }
   ],
   "source": [
    "12433344+64736323"
   ]
  },
  {
   "cell_type": "code",
   "execution_count": 5,
   "id": "77069008",
   "metadata": {},
   "outputs": [
    {
     "data": {
      "text/plain": [
       "-528900390"
      ]
     },
     "execution_count": 5,
     "metadata": {},
     "output_type": "execute_result"
    }
   ],
   "source": [
    "5443338-534343728"
   ]
  },
  {
   "cell_type": "code",
   "execution_count": null,
   "id": "6ecdefe9",
   "metadata": {},
   "outputs": [],
   "source": []
  }
 ],
 "metadata": {
  "kernelspec": {
   "display_name": "Python 3 (ipykernel)",
   "language": "python",
   "name": "python3"
  },
  "language_info": {
   "codemirror_mode": {
    "name": "ipython",
    "version": 3
   },
   "file_extension": ".py",
   "mimetype": "text/x-python",
   "name": "python",
   "nbconvert_exporter": "python",
   "pygments_lexer": "ipython3",
   "version": "3.9.7"
  }
 },
 "nbformat": 4,
 "nbformat_minor": 5
}
